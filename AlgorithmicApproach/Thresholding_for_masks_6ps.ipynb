{
 "cells": [
  {
   "cell_type": "code",
   "execution_count": 1,
   "id": "72c76b55",
   "metadata": {},
   "outputs": [
    {
     "name": "stdout",
     "output_type": "stream",
     "text": [
      "ImageJ version: 2.14.0/1.54f\n"
     ]
    }
   ],
   "source": [
    "import imagej\n",
    "import numpy as np\n",
    "import matplotlib.pyplot as plt\n",
    "from pathlib import Path\n",
    "\n",
    "# initialize ImageJ\n",
    "ij = imagej.init('sc.fiji:fiji:2.14.0') \n",
    "print(f\"ImageJ version: {ij.getVersion()}\")"
   ]
  },
  {
   "cell_type": "code",
   "execution_count": 2,
   "id": "b94abaad",
   "metadata": {},
   "outputs": [],
   "source": [
    "import tifffile as tiff"
   ]
  },
  {
   "cell_type": "markdown",
   "id": "fba352be",
   "metadata": {},
   "source": [
    "Crop all images down to 1000x magnification"
   ]
  },
  {
   "cell_type": "code",
   "execution_count": 3,
   "id": "e0d96a48",
   "metadata": {},
   "outputs": [],
   "source": [
    "def crop_100x_to_1000x(tif):\n",
    "    original = np.asarray(ij.py.from_java(tif))\n",
    "\n",
    "    rows = original.shape[0]\n",
    "    cutoff = int(rows * 0.934)  \n",
    "    scalebar_free = original[:cutoff, :] #Crop the scalebar away\n",
    "\n",
    "    lst = []\n",
    "\n",
    "    new_length = int(np.shape(scalebar_free)[1] / 10)\n",
    "    new_height = int(np.shape(scalebar_free)[0] / 10)\n",
    "\n",
    "    for i in range(10):\n",
    "        for j in range(10):\n",
    "            lst.append(scalebar_free[i*new_height:new_height*(i+1), j*new_length:new_length*(j+1)])\n",
    "\n",
    "    return lst\n",
    "    \n",
    "#imp = ij.IJ.openImage(\"C:/Users/magfa/Documents/Prosjekt/Prosjektbilder/SEM Fe tilsetning og kjølerate/6ps/BSE_x100_m001.tif\")\n",
    "#cropped = crop_100x_to_1000x(imp)\n",
    "#\n",
    "#fig, axarr = plt.subplots(10, 10)\n",
    "#axarr_flatten = axarr.flatten()\n",
    "#for i in range(100):\n",
    "#    axarr_flatten[i].imshow(crop_100x_to_1000x(imp)[i], cmap=\"Greys_r\")\n",
    "#for i in range(100):\n",
    "#    axarr_flatten[i].set_xticks([])\n",
    "#    axarr_flatten[i].set_yticks([])\n",
    "#fig.savefig(\"100to1000.png\", dpi=300)\n",
    "#\n",
    "#fig, ax = plt.subplots(1, 1)\n",
    "#ax.imshow(crop_100x_to_1000x(imp)[45], cmap=\"Greys_r\")\n",
    "#fig\n",
    "#\n"
   ]
  },
  {
   "cell_type": "code",
   "execution_count": 4,
   "id": "9b394ff5",
   "metadata": {},
   "outputs": [],
   "source": [
    "def crop_250x_to_1000x(tif):\n",
    "    original = np.asarray(ij.py.from_java(tif))\n",
    "\n",
    "    rows = original.shape[0]\n",
    "    cutoff = int(rows * 0.934)  \n",
    "    scalebar_free = original[:cutoff, :] #Crop the scalebar away\n",
    "\n",
    "    lst = []\n",
    "\n",
    "    new_length = int(np.shape(scalebar_free)[1] / 4)\n",
    "    new_height = int(np.shape(scalebar_free)[0] / 4)\n",
    "\n",
    "    for i in range(4):\n",
    "        for j in range(4):\n",
    "            lst.append(scalebar_free[i*new_height:new_height*(i+1), j*new_length:new_length*(j+1)])\n",
    "\n",
    "    return lst\n",
    "\n",
    "\n",
    "#imp = ij.IJ.openImage(\"C:/Users/magfa/Documents/Prosjekt/Prosjektbilder/SEM Fe tilsetning og kjølerate/6ps/BSE_x250_m001.tif\")\n",
    "#\n",
    "#fig, axarr = plt.subplots(4, 4)\n",
    "#axarr_flatten = axarr.flatten()\n",
    "#for i in range(16):\n",
    "#    axarr_flatten[i].imshow(crop_250x_to_1000x(imp)[i], cmap=\"Greys_r\")\n",
    "#for i in range(16):\n",
    "#    axarr_flatten[i].set_xticks([])\n",
    "#    axarr_flatten[i].set_yticks([])\n",
    "#fig.savefig(\"250to1000.png\", dpi=300)"
   ]
  },
  {
   "cell_type": "code",
   "execution_count": null,
   "id": "581933aa",
   "metadata": {},
   "outputs": [
    {
     "name": "stderr",
     "output_type": "stream",
     "text": [
      "Operating in headless mode - the original ImageJ will have limited functionality.\n",
      "Operating in headless mode - the IJ class will not be fully functional.\n"
     ]
    },
    {
     "name": "stdout",
     "output_type": "stream",
     "text": [
      "Done!\n"
     ]
    }
   ],
   "source": [
    "paths = [r\"C:/Users/magfa/Documents/Prosjekt/Prosjektbilder/SEM Fe tilsetning og kjølerate/6ps/BSE_x100_m001.tif\", r\"C:/Users/magfa/Documents/Prosjekt/Prosjektbilder/SEM Fe tilsetning og kjølerate/6ps/BSE_x100_m002.tif\", \n",
    "         r\"C:/Users/magfa/Documents/Prosjekt/Prosjektbilder/SEM Fe tilsetning og kjølerate/6ps/BSE_x100_m003.tif\", r\"C:/Users/magfa/Documents/Prosjekt/Prosjektbilder/SEM Fe tilsetning og kjølerate/6ps/BSE_x100_m004.tif\", \n",
    "         r\"C:/Users/magfa/Documents/Prosjekt/Prosjektbilder/SEM Fe tilsetning og kjølerate/6ps/BSE_x100_m005.tif\", r\"C:/Users/magfa/Documents/Prosjekt/Prosjektbilder/SEM Fe tilsetning og kjølerate/6ps/BSE_x100_m006.tif\", \n",
    "         r\"C:/Users/magfa/Documents/Prosjekt/Prosjektbilder/SEM Fe tilsetning og kjølerate/6ps/BSE_x100_m007.tif\", r\"C:/Users/magfa/Documents/Prosjekt/Prosjektbilder/SEM Fe tilsetning og kjølerate/6ps/BSE_x100_m008.tif\", \n",
    "         r\"C:/Users/magfa/Documents/Prosjekt/Prosjektbilder/SEM Fe tilsetning og kjølerate/6ps/BSE_x100_m009.tif\", r\"C:/Users/magfa/Documents/Prosjekt/Prosjektbilder/SEM Fe tilsetning og kjølerate/6ps/BSE_x100_m010.tif\", \n",
    "         r\"C:/Users/magfa/Documents/Prosjekt/Prosjektbilder/SEM Fe tilsetning og kjølerate/6ps/BSE_x100_m011.tif\"]\n",
    "\n",
    "imp_lst = [ij.IJ.openImage(p) for p in paths]\n",
    "\n",
    "for j in range(len(paths)):\n",
    "    for i in range(100):\n",
    "        file_path = Path(rf\"C:\\Users\\magfa\\Documents\\Prosjekt\\Prosjektbilder\\6ps_100xto1000x\\org_{j}nbr_{i}.tif\")\n",
    "        if Path(file_path).exists():\n",
    "            pass\n",
    "        else:\n",
    "            tiff.imwrite(file_path, crop_100x_to_1000x(ij.IJ.openImage(paths[j]))[i])\n",
    "print(\"Done!\")"
   ]
  },
  {
   "cell_type": "code",
   "execution_count": 11,
   "id": "21996d91",
   "metadata": {},
   "outputs": [
    {
     "name": "stdout",
     "output_type": "stream",
     "text": [
      "1100\n"
     ]
    }
   ],
   "source": [
    "def count_images(path):\n",
    "    count = 0\n",
    "    for file in path.iterdir():\n",
    "        count += 1\n",
    "    return count\n",
    "\n",
    "folder = Path(rf\"C:\\Users\\magfa\\Documents\\Prosjekt\\Prosjektbilder\\6ps_100xto1000x\")\n",
    "\n",
    "print(count_images(folder))"
   ]
  },
  {
   "cell_type": "code",
   "execution_count": null,
   "id": "9a6e4b61",
   "metadata": {},
   "outputs": [],
   "source": []
  }
 ],
 "metadata": {
  "kernelspec": {
   "display_name": "ml-env",
   "language": "python",
   "name": "python3"
  },
  "language_info": {
   "codemirror_mode": {
    "name": "ipython",
    "version": 3
   },
   "file_extension": ".py",
   "mimetype": "text/x-python",
   "name": "python",
   "nbconvert_exporter": "python",
   "pygments_lexer": "ipython3",
   "version": "3.9.23"
  }
 },
 "nbformat": 4,
 "nbformat_minor": 5
}
